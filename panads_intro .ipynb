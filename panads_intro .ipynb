{
 "cells": [
  {
   "cell_type": "code",
   "execution_count": 16,
   "id": "f9253dc1",
   "metadata": {},
   "outputs": [],
   "source": [
    "import pandas as pd"
   ]
  },
  {
   "cell_type": "code",
   "execution_count": 17,
   "id": "13f77fb9",
   "metadata": {},
   "outputs": [],
   "source": [
    "df = pd.read_csv('Salaries.csv')"
   ]
  },
  {
   "cell_type": "code",
   "execution_count": 18,
   "id": "48466523",
   "metadata": {},
   "outputs": [
    {
     "data": {
      "text/html": [
       "<div>\n",
       "<style scoped>\n",
       "    .dataframe tbody tr th:only-of-type {\n",
       "        vertical-align: middle;\n",
       "    }\n",
       "\n",
       "    .dataframe tbody tr th {\n",
       "        vertical-align: top;\n",
       "    }\n",
       "\n",
       "    .dataframe thead th {\n",
       "        text-align: right;\n",
       "    }\n",
       "</style>\n",
       "<table border=\"1\" class=\"dataframe\">\n",
       "  <thead>\n",
       "    <tr style=\"text-align: right;\">\n",
       "      <th></th>\n",
       "      <th>rank</th>\n",
       "      <th>discipline</th>\n",
       "      <th>phd</th>\n",
       "      <th>service</th>\n",
       "      <th>sex</th>\n",
       "      <th>salary</th>\n",
       "    </tr>\n",
       "  </thead>\n",
       "  <tbody>\n",
       "    <tr>\n",
       "      <th>0</th>\n",
       "      <td>Prof</td>\n",
       "      <td>B</td>\n",
       "      <td>56</td>\n",
       "      <td>49</td>\n",
       "      <td>Male</td>\n",
       "      <td>186960</td>\n",
       "    </tr>\n",
       "    <tr>\n",
       "      <th>1</th>\n",
       "      <td>Prof</td>\n",
       "      <td>A</td>\n",
       "      <td>12</td>\n",
       "      <td>6</td>\n",
       "      <td>Male</td>\n",
       "      <td>93000</td>\n",
       "    </tr>\n",
       "    <tr>\n",
       "      <th>2</th>\n",
       "      <td>Prof</td>\n",
       "      <td>A</td>\n",
       "      <td>23</td>\n",
       "      <td>20</td>\n",
       "      <td>Male</td>\n",
       "      <td>110515</td>\n",
       "    </tr>\n",
       "    <tr>\n",
       "      <th>3</th>\n",
       "      <td>Prof</td>\n",
       "      <td>A</td>\n",
       "      <td>40</td>\n",
       "      <td>31</td>\n",
       "      <td>Male</td>\n",
       "      <td>131205</td>\n",
       "    </tr>\n",
       "    <tr>\n",
       "      <th>4</th>\n",
       "      <td>Prof</td>\n",
       "      <td>B</td>\n",
       "      <td>20</td>\n",
       "      <td>18</td>\n",
       "      <td>Male</td>\n",
       "      <td>104800</td>\n",
       "    </tr>\n",
       "    <tr>\n",
       "      <th>...</th>\n",
       "      <td>...</td>\n",
       "      <td>...</td>\n",
       "      <td>...</td>\n",
       "      <td>...</td>\n",
       "      <td>...</td>\n",
       "      <td>...</td>\n",
       "    </tr>\n",
       "    <tr>\n",
       "      <th>73</th>\n",
       "      <td>Prof</td>\n",
       "      <td>B</td>\n",
       "      <td>18</td>\n",
       "      <td>10</td>\n",
       "      <td>Female</td>\n",
       "      <td>105450</td>\n",
       "    </tr>\n",
       "    <tr>\n",
       "      <th>74</th>\n",
       "      <td>AssocProf</td>\n",
       "      <td>B</td>\n",
       "      <td>19</td>\n",
       "      <td>6</td>\n",
       "      <td>Female</td>\n",
       "      <td>104542</td>\n",
       "    </tr>\n",
       "    <tr>\n",
       "      <th>75</th>\n",
       "      <td>Prof</td>\n",
       "      <td>B</td>\n",
       "      <td>17</td>\n",
       "      <td>17</td>\n",
       "      <td>Female</td>\n",
       "      <td>124312</td>\n",
       "    </tr>\n",
       "    <tr>\n",
       "      <th>76</th>\n",
       "      <td>Prof</td>\n",
       "      <td>A</td>\n",
       "      <td>28</td>\n",
       "      <td>14</td>\n",
       "      <td>Female</td>\n",
       "      <td>109954</td>\n",
       "    </tr>\n",
       "    <tr>\n",
       "      <th>77</th>\n",
       "      <td>Prof</td>\n",
       "      <td>A</td>\n",
       "      <td>23</td>\n",
       "      <td>15</td>\n",
       "      <td>Female</td>\n",
       "      <td>109646</td>\n",
       "    </tr>\n",
       "  </tbody>\n",
       "</table>\n",
       "<p>78 rows × 6 columns</p>\n",
       "</div>"
      ],
      "text/plain": [
       "         rank discipline  phd  service     sex  salary\n",
       "0        Prof          B   56       49    Male  186960\n",
       "1        Prof          A   12        6    Male   93000\n",
       "2        Prof          A   23       20    Male  110515\n",
       "3        Prof          A   40       31    Male  131205\n",
       "4        Prof          B   20       18    Male  104800\n",
       "..        ...        ...  ...      ...     ...     ...\n",
       "73       Prof          B   18       10  Female  105450\n",
       "74  AssocProf          B   19        6  Female  104542\n",
       "75       Prof          B   17       17  Female  124312\n",
       "76       Prof          A   28       14  Female  109954\n",
       "77       Prof          A   23       15  Female  109646\n",
       "\n",
       "[78 rows x 6 columns]"
      ]
     },
     "execution_count": 18,
     "metadata": {},
     "output_type": "execute_result"
    }
   ],
   "source": [
    "df"
   ]
  },
  {
   "cell_type": "code",
   "execution_count": 19,
   "id": "fe1e68e6",
   "metadata": {},
   "outputs": [
    {
     "ename": "NameError",
     "evalue": "name 'f1' is not defined",
     "output_type": "error",
     "traceback": [
      "\u001b[0;31m---------------------------------------------------------------------------\u001b[0m",
      "\u001b[0;31mNameError\u001b[0m                                 Traceback (most recent call last)",
      "Cell \u001b[0;32mIn[19], line 1\u001b[0m\n\u001b[0;32m----> 1\u001b[0m \u001b[43mf1\u001b[49m\u001b[38;5;241m.\u001b[39mtail()\n",
      "\u001b[0;31mNameError\u001b[0m: name 'f1' is not defined"
     ]
    }
   ],
   "source": [
    "f1.tail()"
   ]
  },
  {
   "cell_type": "code",
   "execution_count": null,
   "id": "1eafaf3e",
   "metadata": {},
   "outputs": [],
   "source": [
    "f1.head()"
   ]
  },
  {
   "cell_type": "code",
   "execution_count": null,
   "id": "0bf54063",
   "metadata": {},
   "outputs": [],
   "source": [
    "print(f1)"
   ]
  },
  {
   "cell_type": "code",
   "execution_count": null,
   "id": "947934a8",
   "metadata": {},
   "outputs": [],
   "source": [
    "df.info"
   ]
  },
  {
   "cell_type": "code",
   "execution_count": null,
   "id": "ddc6ce67",
   "metadata": {},
   "outputs": [],
   "source": [
    "f1.info()"
   ]
  },
  {
   "cell_type": "markdown",
   "id": "0ab8f4b0",
   "metadata": {},
   "source": []
  },
  {
   "cell_type": "code",
   "execution_count": null,
   "id": "1a8f61aa",
   "metadata": {},
   "outputs": [],
   "source": [
    "f1.isnull().sum() # to check for null values\n"
   ]
  },
  {
   "cell_type": "code",
   "execution_count": null,
   "id": "5b422338",
   "metadata": {},
   "outputs": [],
   "source": [
    "f1.isnull()"
   ]
  },
  {
   "cell_type": "code",
   "execution_count": null,
   "id": "d3f81859",
   "metadata": {},
   "outputs": [],
   "source": [
    "pd.set_option('display.max_rows', None)"
   ]
  },
  {
   "cell_type": "code",
   "execution_count": null,
   "id": "f2025f92",
   "metadata": {},
   "outputs": [],
   "source": [
    "df"
   ]
  },
  {
   "cell_type": "code",
   "execution_count": null,
   "id": "16f6a49c",
   "metadata": {},
   "outputs": [],
   "source": [
    "df.isnull()"
   ]
  },
  {
   "cell_type": "code",
   "execution_count": null,
   "id": "ecc2d271",
   "metadata": {},
   "outputs": [],
   "source": [
    "df.notnull()"
   ]
  },
  {
   "cell_type": "code",
   "execution_count": null,
   "id": "2b9f3c53",
   "metadata": {},
   "outputs": [],
   "source": [
    "df.shape # to check the shape of the dataframe"
   ]
  },
  {
   "cell_type": "code",
   "execution_count": null,
   "id": "4816da97",
   "metadata": {},
   "outputs": [],
   "source": [
    "df.columns  # to check the name of the columns"
   ]
  },
  {
   "cell_type": "code",
   "execution_count": null,
   "id": "759c4a3a",
   "metadata": {},
   "outputs": [],
   "source": [
    "df.describe() # basic stats information "
   ]
  },
  {
   "cell_type": "code",
   "execution_count": null,
   "id": "ae58bc3b",
   "metadata": {},
   "outputs": [],
   "source": [
    "df['salary'] # to get to know about one colummn"
   ]
  },
  {
   "cell_type": "code",
   "execution_count": null,
   "id": "a47ad1cd",
   "metadata": {},
   "outputs": [],
   "source": [
    "df[['salary', 'service']] # to get info about more than one column "
   ]
  },
  {
   "cell_type": "code",
   "execution_count": null,
   "id": "6004a3b3",
   "metadata": {},
   "outputs": [],
   "source": [
    "df.mean() "
   ]
  },
  {
   "cell_type": "code",
   "execution_count": null,
   "id": "4de9b5e5",
   "metadata": {},
   "outputs": [],
   "source": [
    "# to ignore futute warnings which are not a error\n",
    "\n",
    "import warnings \n",
    "warnings.filterwarnings('ignore')"
   ]
  },
  {
   "cell_type": "code",
   "execution_count": null,
   "id": "7939136e",
   "metadata": {},
   "outputs": [],
   "source": [
    "df['salary'].mean()"
   ]
  },
  {
   "cell_type": "code",
   "execution_count": null,
   "id": "556b110c",
   "metadata": {},
   "outputs": [],
   "source": [
    "df['salary'].mode()"
   ]
  },
  {
   "cell_type": "code",
   "execution_count": null,
   "id": "61d277d5",
   "metadata": {},
   "outputs": [],
   "source": [
    "df['salary'].var()"
   ]
  },
  {
   "cell_type": "code",
   "execution_count": null,
   "id": "6a3092c4",
   "metadata": {},
   "outputs": [],
   "source": [
    "df['salary'].std()"
   ]
  },
  {
   "cell_type": "code",
   "execution_count": null,
   "id": "fb556efb",
   "metadata": {},
   "outputs": [],
   "source": [
    "df['salary'].skew()"
   ]
  },
  {
   "cell_type": "code",
   "execution_count": null,
   "id": "006a92bf",
   "metadata": {},
   "outputs": [],
   "source": [
    "df['salary'].kurt()"
   ]
  },
  {
   "cell_type": "code",
   "execution_count": null,
   "id": "f6f4b1e3",
   "metadata": {},
   "outputs": [],
   "source": [
    "df['salary'].min()"
   ]
  },
  {
   "cell_type": "code",
   "execution_count": null,
   "id": "e921ba19",
   "metadata": {},
   "outputs": [],
   "source": [
    "df['salary'].max()"
   ]
  },
  {
   "cell_type": "code",
   "execution_count": null,
   "id": "030a701d",
   "metadata": {},
   "outputs": [],
   "source": [
    "# count of repeating value in dataform\n",
    "\n",
    "\n",
    "df['rank'].value_counts()"
   ]
  },
  {
   "cell_type": "code",
   "execution_count": null,
   "id": "3956ef31",
   "metadata": {},
   "outputs": [],
   "source": [
    "# anything after : is columns and anything before : is rows\n",
    "\n",
    "df.iloc[:,:]"
   ]
  },
  {
   "cell_type": "code",
   "execution_count": null,
   "id": "df0deb10",
   "metadata": {},
   "outputs": [],
   "source": [
    "df.iloc[0:50,:]"
   ]
  },
  {
   "cell_type": "code",
   "execution_count": null,
   "id": "8a6735ea",
   "metadata": {},
   "outputs": [],
   "source": [
    "df.iloc[0:50,0:4]"
   ]
  },
  {
   "cell_type": "code",
   "execution_count": null,
   "id": "ecffbf7f",
   "metadata": {},
   "outputs": [],
   "source": [
    "df.iloc[0:50,[1,3,5]]"
   ]
  },
  {
   "cell_type": "code",
   "execution_count": null,
   "id": "e42119a8",
   "metadata": {},
   "outputs": [],
   "source": [
    "# value of a particular cell df.loc meaning\n",
    "\n",
    "df.loc[0,'salary']"
   ]
  },
  {
   "cell_type": "code",
   "execution_count": null,
   "id": "c4c2face",
   "metadata": {},
   "outputs": [],
   "source": [
    "df.loc[10,'service']"
   ]
  },
  {
   "cell_type": "code",
   "execution_count": null,
   "id": "02b05e7d",
   "metadata": {},
   "outputs": [],
   "source": [
    "df"
   ]
  },
  {
   "cell_type": "code",
   "execution_count": null,
   "id": "fde44319",
   "metadata": {},
   "outputs": [],
   "source": [
    "df.groupby(by = 'rank').mean()"
   ]
  },
  {
   "cell_type": "code",
   "execution_count": null,
   "id": "5e90a2e8",
   "metadata": {},
   "outputs": [],
   "source": [
    "\n",
    "import warnings \n",
    "warnings.filterwarnings('ignore')"
   ]
  },
  {
   "cell_type": "code",
   "execution_count": 21,
   "id": "cc336b10",
   "metadata": {},
   "outputs": [
    {
     "data": {
      "text/html": [
       "<div>\n",
       "<style scoped>\n",
       "    .dataframe tbody tr th:only-of-type {\n",
       "        vertical-align: middle;\n",
       "    }\n",
       "\n",
       "    .dataframe tbody tr th {\n",
       "        vertical-align: top;\n",
       "    }\n",
       "\n",
       "    .dataframe thead th {\n",
       "        text-align: right;\n",
       "    }\n",
       "</style>\n",
       "<table border=\"1\" class=\"dataframe\">\n",
       "  <thead>\n",
       "    <tr style=\"text-align: right;\">\n",
       "      <th></th>\n",
       "      <th>salary</th>\n",
       "      <th>service</th>\n",
       "    </tr>\n",
       "    <tr>\n",
       "      <th>rank</th>\n",
       "      <th></th>\n",
       "      <th></th>\n",
       "    </tr>\n",
       "  </thead>\n",
       "  <tbody>\n",
       "    <tr>\n",
       "      <th>AssocProf</th>\n",
       "      <td>91786.230769</td>\n",
       "      <td>11.307692</td>\n",
       "    </tr>\n",
       "    <tr>\n",
       "      <th>AsstProf</th>\n",
       "      <td>81362.789474</td>\n",
       "      <td>2.210526</td>\n",
       "    </tr>\n",
       "    <tr>\n",
       "      <th>Prof</th>\n",
       "      <td>123624.804348</td>\n",
       "      <td>21.413043</td>\n",
       "    </tr>\n",
       "  </tbody>\n",
       "</table>\n",
       "</div>"
      ],
      "text/plain": [
       "                  salary    service\n",
       "rank                               \n",
       "AssocProf   91786.230769  11.307692\n",
       "AsstProf    81362.789474   2.210526\n",
       "Prof       123624.804348  21.413043"
      ]
     },
     "execution_count": 21,
     "metadata": {},
     "output_type": "execute_result"
    }
   ],
   "source": [
    "df.groupby(by = 'rank')[['salary','service']].mean()"
   ]
  },
  {
   "cell_type": "code",
   "execution_count": 32,
   "id": "ae53dfb5",
   "metadata": {},
   "outputs": [],
   "source": [
    "import pandas as pd\n"
   ]
  },
  {
   "cell_type": "code",
   "execution_count": 33,
   "id": "570d18d1",
   "metadata": {},
   "outputs": [],
   "source": [
    "df=pd.read_csv('Salaries.csv',nrows=10)"
   ]
  },
  {
   "cell_type": "code",
   "execution_count": null,
   "id": "2b92d21c",
   "metadata": {},
   "outputs": [],
   "source": []
  }
 ],
 "metadata": {
  "kernelspec": {
   "display_name": "Python 3 (ipykernel)",
   "language": "python",
   "name": "python3"
  },
  "language_info": {
   "codemirror_mode": {
    "name": "ipython",
    "version": 3
   },
   "file_extension": ".py",
   "mimetype": "text/x-python",
   "name": "python",
   "nbconvert_exporter": "python",
   "pygments_lexer": "ipython3",
   "version": "3.10.9"
  }
 },
 "nbformat": 4,
 "nbformat_minor": 5
}
